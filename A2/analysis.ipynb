{
 "cells": [
  {
   "cell_type": "code",
   "id": "initial_id",
   "metadata": {
    "collapsed": true,
    "ExecuteTime": {
     "end_time": "2025-03-20T19:55:00.289253Z",
     "start_time": "2025-03-20T19:54:56.872042Z"
    }
   },
   "source": [
    "# Group 6 - Corrine and Jessica\n",
    "# Complete basic implementation as required by the handout - binary prediction with keras ann\n",
    "# Can achieve an accuracy of 88% (bigram)\n",
    "\"\"\"\n",
    "Step 0: Import the necessary dependencies and download NLTK resources\n",
    "\"\"\"\n",
    "import pandas as pd\n",
    "import numpy as np\n",
    "import matplotlib.pyplot as plt\n",
    "import seaborn as sns\n",
    "import re\n",
    "import string\n",
    "from contractions import CONTRACTION_MAP\n",
    "\n",
    "import nltk\n",
    "from nltk.tokenize import word_tokenize\n",
    "from nltk.corpus import stopwords\n",
    "from nltk import WordNetLemmatizer\n",
    "from nltk import ngrams\n",
    "\n",
    "from collections import Counter\n",
    "\n",
    "import tensorflow as tf\n",
    "from tensorflow.keras.models import Sequential\n",
    "from tensorflow.keras.layers import Dense, Dropout\n",
    "from tensorflow.keras.optimizers import Adam\n",
    "from tensorflow.keras.callbacks import EarlyStopping\n",
    "\n",
    "from sklearn.model_selection import train_test_split\n",
    "from sklearn.feature_extraction.text import CountVectorizer, TfidfVectorizer\n",
    "from sklearn.metrics import classification_report, accuracy_score\n",
    "\n",
    "# Download necessary NLTK resources\n",
    "nltk.download('punkt')\n",
    "nltk.download('stopwords')\n",
    "nltk.download('vader_lexicon')\n",
    "nltk.download('punkt_tab')\n",
    "\n",
    "np.random.seed(42)"
   ],
   "outputs": [
    {
     "name": "stderr",
     "output_type": "stream",
     "text": [
      "/Users/yiningxiang/Library/Python/3.9/lib/python/site-packages/urllib3/__init__.py:35: NotOpenSSLWarning: urllib3 v2 only supports OpenSSL 1.1.1+, currently the 'ssl' module is compiled with 'LibreSSL 2.8.3'. See: https://github.com/urllib3/urllib3/issues/3020\n",
      "  warnings.warn(\n",
      "[nltk_data] Downloading package punkt to\n",
      "[nltk_data]     /Users/yiningxiang/nltk_data...\n",
      "[nltk_data]   Package punkt is already up-to-date!\n",
      "[nltk_data] Downloading package stopwords to\n",
      "[nltk_data]     /Users/yiningxiang/nltk_data...\n",
      "[nltk_data]   Package stopwords is already up-to-date!\n",
      "[nltk_data] Downloading package vader_lexicon to\n",
      "[nltk_data]     /Users/yiningxiang/nltk_data...\n",
      "[nltk_data]   Package vader_lexicon is already up-to-date!\n",
      "[nltk_data] Downloading package punkt_tab to\n",
      "[nltk_data]     /Users/yiningxiang/nltk_data...\n",
      "[nltk_data]   Package punkt_tab is already up-to-date!\n"
     ]
    }
   ],
   "execution_count": 3
  },
  {
   "metadata": {
    "ExecuteTime": {
     "end_time": "2025-03-20T19:55:00.335210Z",
     "start_time": "2025-03-20T19:55:00.295063Z"
    }
   },
   "cell_type": "code",
   "source": [
    "\"\"\"\n",
    "Step 1: Load the training data and quick EDA\n",
    "\"\"\"\n",
    "train_data = pd.read_csv('ReviewsTraining.csv')\n",
    "test_data = pd.read_csv('ReviewsTest.csv')\n",
    "\n",
    "# Set the display options for pandas to show all columns and rows\n",
    "pd.set_option('display.max_columns', None)\n",
    "pd.set_option('display.max_rows', None)\n",
    "pd.set_option('display.max_colwidth', None)\n",
    "pd.set_option('display.width', 2000)\n",
    "pd.set_option('display.expand_frame_repr', False)\n",
    "\n",
    "class DataLoader:\n",
    "    def __init__(self):\n",
    "        # Create a set of stopwords\n",
    "        self.stop_words = set(stopwords.words('english'))\n",
    "        # Remove negation words from stopwords as they're important for sentiment\n",
    "        self.negation_words = {'no', 'not', 'nor', 'none', 'never', 'neither', 'hardly', 'barely'}\n",
    "        self.stop_words = self.stop_words - self.negation_words\n",
    "\n",
    "    def explore_data(self, data):\n",
    "        \"\"\"\n",
    "        This function explores the data structure and prints the first few rows\n",
    "        :param data: The input data\n",
    "        :return: None\n",
    "        \"\"\"\n",
    "        # Check the structure\n",
    "        print(\"Data shape:\", data.shape)\n",
    "        print(\"\\nColumns:\", data.columns.tolist())\n",
    "        print(\"\\nSample data:\")\n",
    "        print(data.head())\n",
    "\n",
    "        # Check for missing values\n",
    "        print(\"\\nMissing values:\")\n",
    "        print(data.isnull().sum())\n",
    "\n",
    "    def plot_score_distribution(self, data):\n",
    "        \"\"\"\n",
    "        This function plots the distribution of review scores\n",
    "        :param data: The input data\n",
    "        :return: None\n",
    "        \"\"\"\n",
    "        plt.figure(figsize=(10, 6))\n",
    "        ax = sns.countplot(x='Score', data=data)\n",
    "        plt.title('Distribution of Review Scores')\n",
    "        plt.xlabel('Score')\n",
    "        plt.ylabel('Count')\n",
    "\n",
    "        # Add count labels on top of bars\n",
    "        for p in ax.patches:\n",
    "            ax.annotate(f'{p.get_height()}',\n",
    "                        (p.get_x() + p.get_width() / 2., p.get_height()),\n",
    "                        ha='center', va='baseline',\n",
    "                        xytext=(0, 5), textcoords='offset points')\n",
    "\n",
    "        plt.tight_layout()\n",
    "        plt.show()\n",
    "\n",
    "# # Uncomment the following lines to explore the training data\n",
    "# # Create an instance of the DataLoader class\n",
    "# data_loader = DataLoader()\n",
    "# data_loader.explore_data(train_data) # Explore the training data\n",
    "# data_loader.plot_score_distribution(train_data) # Plot the distribution of review scores"
   ],
   "id": "3fd4ce0b8764bf0a",
   "outputs": [],
   "execution_count": 4
  },
  {
   "metadata": {
    "ExecuteTime": {
     "end_time": "2025-03-20T19:55:05.116107Z",
     "start_time": "2025-03-20T19:55:00.353618Z"
    }
   },
   "cell_type": "code",
   "source": [
    "\"\"\"\n",
    "Step 2: Text Preprocessing\n",
    "    2.1 Expand contractions\n",
    "    2.2 Text cleaning to lowercase, remove punctuation, and numbers\n",
    "    2.3 Tokenization\n",
    "    2.4 Remove stopwords but keep sentiment words, especially negation words\n",
    "    2.5 Lemmatization\n",
    "\"\"\"\n",
    "\n",
    "class TextPreprocessor:\n",
    "    def __init__(self):\n",
    "        self.lemmatizer = WordNetLemmatizer()\n",
    "        self.stop_words = set(stopwords.words('english'))\n",
    "        # Remove negation words from stopwords as they're important for sentiment\n",
    "        self.negation_words = {'no', 'not', 'nor', 'none', 'never', 'neither', 'hardly', 'barely'}\n",
    "        self.stop_words = self.stop_words - self.negation_words\n",
    "\n",
    "\n",
    "    def expand_contractions(self, text, contraction_mapping=CONTRACTION_MAP):\n",
    "        \"\"\"\n",
    "        This function expands contractions in the text\n",
    "        :param text: The input text\n",
    "        :param contraction_mapping: The contraction mapping\n",
    "        :return: The text with expanded contractions\n",
    "\n",
    "        @example: 'don't' -> 'do not', 'can't' -> 'cannot'\n",
    "        \"\"\"\n",
    "        if isinstance(text, str):\n",
    "            contractions_pattern = re.compile('({})'.format('|'.join(contraction_mapping.keys())),\n",
    "                                              flags=re.IGNORECASE | re.DOTALL)\n",
    "\n",
    "            def expand_match(contraction):\n",
    "                match = contraction.group(0)\n",
    "                first_char = match[0]\n",
    "                expanded_contraction = contraction_mapping.get(match) \\\n",
    "                    if contraction_mapping.get(match) \\\n",
    "                    else contraction_mapping.get(match.lower())\n",
    "                expanded_contraction = first_char + expanded_contraction[1:] if expanded_contraction else match\n",
    "                return expanded_contraction\n",
    "\n",
    "            expanded_text = contractions_pattern.sub(expand_match, text)\n",
    "            return expanded_text\n",
    "        else:\n",
    "            return \"\"\n",
    "\n",
    "\n",
    "    def preprocess_text(self, text):\n",
    "        \"\"\"\n",
    "        Apply all preprocessing steps described above\n",
    "        :param text: Raw text input\n",
    "        :return: Preprocessed text\n",
    "        \"\"\"\n",
    "        if not isinstance(text, str) or len(text.strip()) == 0:\n",
    "            return \"\"\n",
    "\n",
    "        # Expand contractions\n",
    "        text = self.expand_contractions(text)\n",
    "        # Convert to lowercase\n",
    "        text = text.lower()\n",
    "        # Remove punctuation\n",
    "        text = text.translate(str.maketrans('', '', string.punctuation))\n",
    "        # Remove numbers\n",
    "        text = re.sub(r'\\d+', '', text)\n",
    "        # Tokenize\n",
    "        tokens = word_tokenize(text)\n",
    "        # Remove stopwords\n",
    "        tokens = [token for token in tokens if token not in self.stop_words]\n",
    "        # Lemmatize tokens\n",
    "        tokens = [self.lemmatizer.lemmatize(token) for token in tokens]\n",
    "        # Join tokens back into text\n",
    "        return ' '.join(tokens)\n",
    "\n",
    "\n",
    "    def preprocess_dataframe(self, df, text_col='Text', summary_col='Summary'):\n",
    "        \"\"\"\n",
    "        Preprocess both text and summary columns and combine them\n",
    "\n",
    "        :param df: DataFrame containing text data\n",
    "        :param text_col: Name of the column containing the main text\n",
    "        :param summary_col: Name of the column containing the summary\n",
    "        :return: DataFrame with preprocessed text\n",
    "        \"\"\"\n",
    "        df_processed = df.copy()\n",
    "\n",
    "        df_processed[f'{summary_col}_processed'] = df_processed[summary_col].apply(self.preprocess_text)\n",
    "        df_processed[f'{text_col}_processed'] = df_processed[text_col].apply(self.preprocess_text)\n",
    "\n",
    "        # Combine the processed columns\n",
    "        df_processed['combined_text'] = df_processed[f'{summary_col}_processed'] + ' ' + df_processed[\n",
    "            f'{text_col}_processed']\n",
    "\n",
    "        return df_processed\n",
    "\n",
    "# # Uncomment the following lines to test the TextPreprocessor class\n",
    "# text_preprocessor = TextPreprocessor()\n",
    "# example_text = \"I can't believe it's not butter!\"\n",
    "# print(f\"Original: {example_text}\")\n",
    "# print(f\"Preprocessed: {text_preprocessor.preprocess_text(example_text)}\")\n",
    "# print()\n",
    "# for line in test_data['Text']:\n",
    "#     print(f\"Original: {line}\")\n",
    "#     print(f\"Preprocessed: {text_preprocessor.preprocess_text(line)}\")\n",
    "#     print()\n",
    "\n",
    "text_preprocessor = TextPreprocessor()\n",
    "train_data_processed = text_preprocessor.preprocess_dataframe(train_data)\n",
    "test_data_processed = text_preprocessor.preprocess_dataframe(test_data)\n",
    "\n",
    "# train_data_processed # You can comment this line if you don't want to see the processed data"
   ],
   "id": "6f76c5997c26951a",
   "outputs": [],
   "execution_count": 5
  },
  {
   "metadata": {
    "ExecuteTime": {
     "end_time": "2025-03-20T19:55:05.584991Z",
     "start_time": "2025-03-20T19:55:05.119648Z"
    }
   },
   "cell_type": "code",
   "source": [
    "\"\"\"\n",
    "Step 3: Feature Engineering\n",
    "    3.1 Convert scores to binary sentiment (1 = positive, 0 = negative)\n",
    "    3.2 Vectorize text data using TF-IDF\n",
    "    3.3 Split the data for training and validation\n",
    "\"\"\"\n",
    "# Convert scores to binary sentiment (scores 1-3 = negative, 4-5 = positive)\n",
    "train_data_processed['sentiment_binary'] = train_data_processed['Score'].apply(lambda x: 1 if x >= 4 else 0)\n",
    "\n",
    "# Unigrams only\n",
    "unigram_vectorizer = TfidfVectorizer(max_features=5000, ngram_range=(1, 1))\n",
    "X_unigram = unigram_vectorizer.fit_transform(train_data_processed['combined_text'])\n",
    "\n",
    "# Bigrams + Unigrams\n",
    "bigram_vectorizer = TfidfVectorizer(max_features=5000, ngram_range=(1, 2))\n",
    "X_bigram = bigram_vectorizer.fit_transform(train_data_processed['combined_text'])\n",
    "\n",
    "\n",
    "# Split the data for training and validation\n",
    "X_unigram_train, X_unigram_val, y_train_unigram, y_val_unigram = train_test_split(\n",
    "    X_unigram, train_data_processed['sentiment_binary'], test_size=0.2, random_state=42\n",
    ")\n",
    "\n",
    "X_bigram_train, X_bigram_val, y_train_bigram, y_val_bigram = train_test_split(\n",
    "    X_bigram, train_data_processed['sentiment_binary'], test_size=0.2, random_state=42\n",
    ")"
   ],
   "id": "d5cdba31b954fd88",
   "outputs": [],
   "execution_count": 6
  },
  {
   "metadata": {
    "ExecuteTime": {
     "end_time": "2025-03-20T19:55:11.189652Z",
     "start_time": "2025-03-20T19:55:05.615016Z"
    }
   },
   "cell_type": "code",
   "source": [
    "\"\"\"\n",
    "Step 4: Model Building and Training\n",
    "    4.1 Build unigram model\n",
    "    4.2 Build bigram model\n",
    "    4.3 Compare model performance\n",
    "\"\"\"\n",
    "def create_model(input_dim):\n",
    "    \"\"\"\n",
    "    Creates a Keras ANN model for sentiment classification\n",
    "    \"\"\"\n",
    "    model = Sequential([\n",
    "        Dense(256, input_shape=(input_dim,), activation='relu'),\n",
    "        Dropout(0.3),\n",
    "        Dense(128, activation='relu'),\n",
    "        Dropout(0.3),\n",
    "        Dense(64, activation='relu'),\n",
    "        Dropout(0.3),\n",
    "        Dense(1, activation='sigmoid')\n",
    "    ])\n",
    "\n",
    "    model.compile(\n",
    "        loss='binary_crossentropy',\n",
    "        optimizer=Adam(learning_rate=0.001),\n",
    "        metrics=['accuracy']\n",
    "    )\n",
    "\n",
    "    return model\n",
    "\n",
    "\n",
    "# Define early stopping callback\n",
    "early_stopping = EarlyStopping(\n",
    "    monitor='val_loss',\n",
    "    patience=3,\n",
    "    restore_best_weights=True,\n",
    "    verbose=1\n",
    ")\n",
    "\n",
    "# Train unigram model\n",
    "print(\"\\nTraining unigram model:\")\n",
    "unigram_model = create_model(X_unigram_train.shape[1])\n",
    "unigram_model.summary()\n",
    "\n",
    "history_unigram = unigram_model.fit(\n",
    "    X_unigram_train, y_train_unigram,\n",
    "    epochs=10,\n",
    "    batch_size=64,\n",
    "    validation_data=(X_unigram_val, y_val_unigram),\n",
    "    callbacks=[early_stopping],\n",
    "    verbose=1\n",
    ")\n",
    "\n",
    "# Train bigram model\n",
    "print(\"\\nTraining bigram model:\")\n",
    "bigram_model = create_model(X_bigram_train.shape[1])\n",
    "bigram_model.summary()\n",
    "\n",
    "history_bigram = bigram_model.fit(\n",
    "    X_bigram_train, y_train_bigram,\n",
    "    epochs=10,\n",
    "    batch_size=64,\n",
    "    validation_data=(X_bigram_val, y_val_bigram),\n",
    "    callbacks=[early_stopping],\n",
    "    verbose=1\n",
    ")"
   ],
   "id": "4d0521b47d13b65e",
   "outputs": [
    {
     "name": "stdout",
     "output_type": "stream",
     "text": [
      "\n",
      "Training unigram model:\n"
     ]
    },
    {
     "name": "stderr",
     "output_type": "stream",
     "text": [
      "/Users/yiningxiang/Library/Python/3.9/lib/python/site-packages/keras/src/layers/core/dense.py:87: UserWarning: Do not pass an `input_shape`/`input_dim` argument to a layer. When using Sequential models, prefer using an `Input(shape)` object as the first layer in the model instead.\n",
      "  super().__init__(activity_regularizer=activity_regularizer, **kwargs)\n"
     ]
    },
    {
     "data": {
      "text/plain": [
       "\u001B[1mModel: \"sequential\"\u001B[0m\n"
      ],
      "text/html": [
       "<pre style=\"white-space:pre;overflow-x:auto;line-height:normal;font-family:Menlo,'DejaVu Sans Mono',consolas,'Courier New',monospace\"><span style=\"font-weight: bold\">Model: \"sequential\"</span>\n",
       "</pre>\n"
      ]
     },
     "metadata": {},
     "output_type": "display_data"
    },
    {
     "data": {
      "text/plain": [
       "┏━━━━━━━━━━━━━━━━━━━━━━━━━━━━━━━━━┳━━━━━━━━━━━━━━━━━━━━━━━━┳━━━━━━━━━━━━━━━┓\n",
       "┃\u001B[1m \u001B[0m\u001B[1mLayer (type)                   \u001B[0m\u001B[1m \u001B[0m┃\u001B[1m \u001B[0m\u001B[1mOutput Shape          \u001B[0m\u001B[1m \u001B[0m┃\u001B[1m \u001B[0m\u001B[1m      Param #\u001B[0m\u001B[1m \u001B[0m┃\n",
       "┡━━━━━━━━━━━━━━━━━━━━━━━━━━━━━━━━━╇━━━━━━━━━━━━━━━━━━━━━━━━╇━━━━━━━━━━━━━━━┩\n",
       "│ dense (\u001B[38;5;33mDense\u001B[0m)                   │ (\u001B[38;5;45mNone\u001B[0m, \u001B[38;5;34m256\u001B[0m)            │     \u001B[38;5;34m1,280,256\u001B[0m │\n",
       "├─────────────────────────────────┼────────────────────────┼───────────────┤\n",
       "│ dropout (\u001B[38;5;33mDropout\u001B[0m)               │ (\u001B[38;5;45mNone\u001B[0m, \u001B[38;5;34m256\u001B[0m)            │             \u001B[38;5;34m0\u001B[0m │\n",
       "├─────────────────────────────────┼────────────────────────┼───────────────┤\n",
       "│ dense_1 (\u001B[38;5;33mDense\u001B[0m)                 │ (\u001B[38;5;45mNone\u001B[0m, \u001B[38;5;34m128\u001B[0m)            │        \u001B[38;5;34m32,896\u001B[0m │\n",
       "├─────────────────────────────────┼────────────────────────┼───────────────┤\n",
       "│ dropout_1 (\u001B[38;5;33mDropout\u001B[0m)             │ (\u001B[38;5;45mNone\u001B[0m, \u001B[38;5;34m128\u001B[0m)            │             \u001B[38;5;34m0\u001B[0m │\n",
       "├─────────────────────────────────┼────────────────────────┼───────────────┤\n",
       "│ dense_2 (\u001B[38;5;33mDense\u001B[0m)                 │ (\u001B[38;5;45mNone\u001B[0m, \u001B[38;5;34m64\u001B[0m)             │         \u001B[38;5;34m8,256\u001B[0m │\n",
       "├─────────────────────────────────┼────────────────────────┼───────────────┤\n",
       "│ dropout_2 (\u001B[38;5;33mDropout\u001B[0m)             │ (\u001B[38;5;45mNone\u001B[0m, \u001B[38;5;34m64\u001B[0m)             │             \u001B[38;5;34m0\u001B[0m │\n",
       "├─────────────────────────────────┼────────────────────────┼───────────────┤\n",
       "│ dense_3 (\u001B[38;5;33mDense\u001B[0m)                 │ (\u001B[38;5;45mNone\u001B[0m, \u001B[38;5;34m1\u001B[0m)              │            \u001B[38;5;34m65\u001B[0m │\n",
       "└─────────────────────────────────┴────────────────────────┴───────────────┘\n"
      ],
      "text/html": [
       "<pre style=\"white-space:pre;overflow-x:auto;line-height:normal;font-family:Menlo,'DejaVu Sans Mono',consolas,'Courier New',monospace\">┏━━━━━━━━━━━━━━━━━━━━━━━━━━━━━━━━━┳━━━━━━━━━━━━━━━━━━━━━━━━┳━━━━━━━━━━━━━━━┓\n",
       "┃<span style=\"font-weight: bold\"> Layer (type)                    </span>┃<span style=\"font-weight: bold\"> Output Shape           </span>┃<span style=\"font-weight: bold\">       Param # </span>┃\n",
       "┡━━━━━━━━━━━━━━━━━━━━━━━━━━━━━━━━━╇━━━━━━━━━━━━━━━━━━━━━━━━╇━━━━━━━━━━━━━━━┩\n",
       "│ dense (<span style=\"color: #0087ff; text-decoration-color: #0087ff\">Dense</span>)                   │ (<span style=\"color: #00d7ff; text-decoration-color: #00d7ff\">None</span>, <span style=\"color: #00af00; text-decoration-color: #00af00\">256</span>)            │     <span style=\"color: #00af00; text-decoration-color: #00af00\">1,280,256</span> │\n",
       "├─────────────────────────────────┼────────────────────────┼───────────────┤\n",
       "│ dropout (<span style=\"color: #0087ff; text-decoration-color: #0087ff\">Dropout</span>)               │ (<span style=\"color: #00d7ff; text-decoration-color: #00d7ff\">None</span>, <span style=\"color: #00af00; text-decoration-color: #00af00\">256</span>)            │             <span style=\"color: #00af00; text-decoration-color: #00af00\">0</span> │\n",
       "├─────────────────────────────────┼────────────────────────┼───────────────┤\n",
       "│ dense_1 (<span style=\"color: #0087ff; text-decoration-color: #0087ff\">Dense</span>)                 │ (<span style=\"color: #00d7ff; text-decoration-color: #00d7ff\">None</span>, <span style=\"color: #00af00; text-decoration-color: #00af00\">128</span>)            │        <span style=\"color: #00af00; text-decoration-color: #00af00\">32,896</span> │\n",
       "├─────────────────────────────────┼────────────────────────┼───────────────┤\n",
       "│ dropout_1 (<span style=\"color: #0087ff; text-decoration-color: #0087ff\">Dropout</span>)             │ (<span style=\"color: #00d7ff; text-decoration-color: #00d7ff\">None</span>, <span style=\"color: #00af00; text-decoration-color: #00af00\">128</span>)            │             <span style=\"color: #00af00; text-decoration-color: #00af00\">0</span> │\n",
       "├─────────────────────────────────┼────────────────────────┼───────────────┤\n",
       "│ dense_2 (<span style=\"color: #0087ff; text-decoration-color: #0087ff\">Dense</span>)                 │ (<span style=\"color: #00d7ff; text-decoration-color: #00d7ff\">None</span>, <span style=\"color: #00af00; text-decoration-color: #00af00\">64</span>)             │         <span style=\"color: #00af00; text-decoration-color: #00af00\">8,256</span> │\n",
       "├─────────────────────────────────┼────────────────────────┼───────────────┤\n",
       "│ dropout_2 (<span style=\"color: #0087ff; text-decoration-color: #0087ff\">Dropout</span>)             │ (<span style=\"color: #00d7ff; text-decoration-color: #00d7ff\">None</span>, <span style=\"color: #00af00; text-decoration-color: #00af00\">64</span>)             │             <span style=\"color: #00af00; text-decoration-color: #00af00\">0</span> │\n",
       "├─────────────────────────────────┼────────────────────────┼───────────────┤\n",
       "│ dense_3 (<span style=\"color: #0087ff; text-decoration-color: #0087ff\">Dense</span>)                 │ (<span style=\"color: #00d7ff; text-decoration-color: #00d7ff\">None</span>, <span style=\"color: #00af00; text-decoration-color: #00af00\">1</span>)              │            <span style=\"color: #00af00; text-decoration-color: #00af00\">65</span> │\n",
       "└─────────────────────────────────┴────────────────────────┴───────────────┘\n",
       "</pre>\n"
      ]
     },
     "metadata": {},
     "output_type": "display_data"
    },
    {
     "data": {
      "text/plain": [
       "\u001B[1m Total params: \u001B[0m\u001B[38;5;34m1,321,473\u001B[0m (5.04 MB)\n"
      ],
      "text/html": [
       "<pre style=\"white-space:pre;overflow-x:auto;line-height:normal;font-family:Menlo,'DejaVu Sans Mono',consolas,'Courier New',monospace\"><span style=\"font-weight: bold\"> Total params: </span><span style=\"color: #00af00; text-decoration-color: #00af00\">1,321,473</span> (5.04 MB)\n",
       "</pre>\n"
      ]
     },
     "metadata": {},
     "output_type": "display_data"
    },
    {
     "data": {
      "text/plain": [
       "\u001B[1m Trainable params: \u001B[0m\u001B[38;5;34m1,321,473\u001B[0m (5.04 MB)\n"
      ],
      "text/html": [
       "<pre style=\"white-space:pre;overflow-x:auto;line-height:normal;font-family:Menlo,'DejaVu Sans Mono',consolas,'Courier New',monospace\"><span style=\"font-weight: bold\"> Trainable params: </span><span style=\"color: #00af00; text-decoration-color: #00af00\">1,321,473</span> (5.04 MB)\n",
       "</pre>\n"
      ]
     },
     "metadata": {},
     "output_type": "display_data"
    },
    {
     "data": {
      "text/plain": [
       "\u001B[1m Non-trainable params: \u001B[0m\u001B[38;5;34m0\u001B[0m (0.00 B)\n"
      ],
      "text/html": [
       "<pre style=\"white-space:pre;overflow-x:auto;line-height:normal;font-family:Menlo,'DejaVu Sans Mono',consolas,'Courier New',monospace\"><span style=\"font-weight: bold\"> Non-trainable params: </span><span style=\"color: #00af00; text-decoration-color: #00af00\">0</span> (0.00 B)\n",
       "</pre>\n"
      ]
     },
     "metadata": {},
     "output_type": "display_data"
    },
    {
     "name": "stdout",
     "output_type": "stream",
     "text": [
      "Epoch 1/10\n",
      "\u001B[1m63/63\u001B[0m \u001B[32m━━━━━━━━━━━━━━━━━━━━\u001B[0m\u001B[37m\u001B[0m \u001B[1m1s\u001B[0m 8ms/step - accuracy: 0.7334 - loss: 0.5905 - val_accuracy: 0.7750 - val_loss: 0.3968\n",
      "Epoch 2/10\n",
      "\u001B[1m63/63\u001B[0m \u001B[32m━━━━━━━━━━━━━━━━━━━━\u001B[0m\u001B[37m\u001B[0m \u001B[1m0s\u001B[0m 6ms/step - accuracy: 0.8086 - loss: 0.3071 - val_accuracy: 0.8630 - val_loss: 0.3307\n",
      "Epoch 3/10\n",
      "\u001B[1m63/63\u001B[0m \u001B[32m━━━━━━━━━━━━━━━━━━━━\u001B[0m\u001B[37m\u001B[0m \u001B[1m0s\u001B[0m 6ms/step - accuracy: 0.9636 - loss: 0.1272 - val_accuracy: 0.8730 - val_loss: 0.4239\n",
      "Epoch 4/10\n",
      "\u001B[1m63/63\u001B[0m \u001B[32m━━━━━━━━━━━━━━━━━━━━\u001B[0m\u001B[37m\u001B[0m \u001B[1m0s\u001B[0m 7ms/step - accuracy: 0.9867 - loss: 0.0517 - val_accuracy: 0.8620 - val_loss: 0.5370\n",
      "Epoch 5/10\n",
      "\u001B[1m63/63\u001B[0m \u001B[32m━━━━━━━━━━━━━━━━━━━━\u001B[0m\u001B[37m\u001B[0m \u001B[1m0s\u001B[0m 6ms/step - accuracy: 0.9983 - loss: 0.0138 - val_accuracy: 0.8640 - val_loss: 0.7301\n",
      "Epoch 5: early stopping\n",
      "Restoring model weights from the end of the best epoch: 2.\n",
      "\n",
      "Training bigram model:\n"
     ]
    },
    {
     "data": {
      "text/plain": [
       "\u001B[1mModel: \"sequential_1\"\u001B[0m\n"
      ],
      "text/html": [
       "<pre style=\"white-space:pre;overflow-x:auto;line-height:normal;font-family:Menlo,'DejaVu Sans Mono',consolas,'Courier New',monospace\"><span style=\"font-weight: bold\">Model: \"sequential_1\"</span>\n",
       "</pre>\n"
      ]
     },
     "metadata": {},
     "output_type": "display_data"
    },
    {
     "data": {
      "text/plain": [
       "┏━━━━━━━━━━━━━━━━━━━━━━━━━━━━━━━━━┳━━━━━━━━━━━━━━━━━━━━━━━━┳━━━━━━━━━━━━━━━┓\n",
       "┃\u001B[1m \u001B[0m\u001B[1mLayer (type)                   \u001B[0m\u001B[1m \u001B[0m┃\u001B[1m \u001B[0m\u001B[1mOutput Shape          \u001B[0m\u001B[1m \u001B[0m┃\u001B[1m \u001B[0m\u001B[1m      Param #\u001B[0m\u001B[1m \u001B[0m┃\n",
       "┡━━━━━━━━━━━━━━━━━━━━━━━━━━━━━━━━━╇━━━━━━━━━━━━━━━━━━━━━━━━╇━━━━━━━━━━━━━━━┩\n",
       "│ dense_4 (\u001B[38;5;33mDense\u001B[0m)                 │ (\u001B[38;5;45mNone\u001B[0m, \u001B[38;5;34m256\u001B[0m)            │     \u001B[38;5;34m1,280,256\u001B[0m │\n",
       "├─────────────────────────────────┼────────────────────────┼───────────────┤\n",
       "│ dropout_3 (\u001B[38;5;33mDropout\u001B[0m)             │ (\u001B[38;5;45mNone\u001B[0m, \u001B[38;5;34m256\u001B[0m)            │             \u001B[38;5;34m0\u001B[0m │\n",
       "├─────────────────────────────────┼────────────────────────┼───────────────┤\n",
       "│ dense_5 (\u001B[38;5;33mDense\u001B[0m)                 │ (\u001B[38;5;45mNone\u001B[0m, \u001B[38;5;34m128\u001B[0m)            │        \u001B[38;5;34m32,896\u001B[0m │\n",
       "├─────────────────────────────────┼────────────────────────┼───────────────┤\n",
       "│ dropout_4 (\u001B[38;5;33mDropout\u001B[0m)             │ (\u001B[38;5;45mNone\u001B[0m, \u001B[38;5;34m128\u001B[0m)            │             \u001B[38;5;34m0\u001B[0m │\n",
       "├─────────────────────────────────┼────────────────────────┼───────────────┤\n",
       "│ dense_6 (\u001B[38;5;33mDense\u001B[0m)                 │ (\u001B[38;5;45mNone\u001B[0m, \u001B[38;5;34m64\u001B[0m)             │         \u001B[38;5;34m8,256\u001B[0m │\n",
       "├─────────────────────────────────┼────────────────────────┼───────────────┤\n",
       "│ dropout_5 (\u001B[38;5;33mDropout\u001B[0m)             │ (\u001B[38;5;45mNone\u001B[0m, \u001B[38;5;34m64\u001B[0m)             │             \u001B[38;5;34m0\u001B[0m │\n",
       "├─────────────────────────────────┼────────────────────────┼───────────────┤\n",
       "│ dense_7 (\u001B[38;5;33mDense\u001B[0m)                 │ (\u001B[38;5;45mNone\u001B[0m, \u001B[38;5;34m1\u001B[0m)              │            \u001B[38;5;34m65\u001B[0m │\n",
       "└─────────────────────────────────┴────────────────────────┴───────────────┘\n"
      ],
      "text/html": [
       "<pre style=\"white-space:pre;overflow-x:auto;line-height:normal;font-family:Menlo,'DejaVu Sans Mono',consolas,'Courier New',monospace\">┏━━━━━━━━━━━━━━━━━━━━━━━━━━━━━━━━━┳━━━━━━━━━━━━━━━━━━━━━━━━┳━━━━━━━━━━━━━━━┓\n",
       "┃<span style=\"font-weight: bold\"> Layer (type)                    </span>┃<span style=\"font-weight: bold\"> Output Shape           </span>┃<span style=\"font-weight: bold\">       Param # </span>┃\n",
       "┡━━━━━━━━━━━━━━━━━━━━━━━━━━━━━━━━━╇━━━━━━━━━━━━━━━━━━━━━━━━╇━━━━━━━━━━━━━━━┩\n",
       "│ dense_4 (<span style=\"color: #0087ff; text-decoration-color: #0087ff\">Dense</span>)                 │ (<span style=\"color: #00d7ff; text-decoration-color: #00d7ff\">None</span>, <span style=\"color: #00af00; text-decoration-color: #00af00\">256</span>)            │     <span style=\"color: #00af00; text-decoration-color: #00af00\">1,280,256</span> │\n",
       "├─────────────────────────────────┼────────────────────────┼───────────────┤\n",
       "│ dropout_3 (<span style=\"color: #0087ff; text-decoration-color: #0087ff\">Dropout</span>)             │ (<span style=\"color: #00d7ff; text-decoration-color: #00d7ff\">None</span>, <span style=\"color: #00af00; text-decoration-color: #00af00\">256</span>)            │             <span style=\"color: #00af00; text-decoration-color: #00af00\">0</span> │\n",
       "├─────────────────────────────────┼────────────────────────┼───────────────┤\n",
       "│ dense_5 (<span style=\"color: #0087ff; text-decoration-color: #0087ff\">Dense</span>)                 │ (<span style=\"color: #00d7ff; text-decoration-color: #00d7ff\">None</span>, <span style=\"color: #00af00; text-decoration-color: #00af00\">128</span>)            │        <span style=\"color: #00af00; text-decoration-color: #00af00\">32,896</span> │\n",
       "├─────────────────────────────────┼────────────────────────┼───────────────┤\n",
       "│ dropout_4 (<span style=\"color: #0087ff; text-decoration-color: #0087ff\">Dropout</span>)             │ (<span style=\"color: #00d7ff; text-decoration-color: #00d7ff\">None</span>, <span style=\"color: #00af00; text-decoration-color: #00af00\">128</span>)            │             <span style=\"color: #00af00; text-decoration-color: #00af00\">0</span> │\n",
       "├─────────────────────────────────┼────────────────────────┼───────────────┤\n",
       "│ dense_6 (<span style=\"color: #0087ff; text-decoration-color: #0087ff\">Dense</span>)                 │ (<span style=\"color: #00d7ff; text-decoration-color: #00d7ff\">None</span>, <span style=\"color: #00af00; text-decoration-color: #00af00\">64</span>)             │         <span style=\"color: #00af00; text-decoration-color: #00af00\">8,256</span> │\n",
       "├─────────────────────────────────┼────────────────────────┼───────────────┤\n",
       "│ dropout_5 (<span style=\"color: #0087ff; text-decoration-color: #0087ff\">Dropout</span>)             │ (<span style=\"color: #00d7ff; text-decoration-color: #00d7ff\">None</span>, <span style=\"color: #00af00; text-decoration-color: #00af00\">64</span>)             │             <span style=\"color: #00af00; text-decoration-color: #00af00\">0</span> │\n",
       "├─────────────────────────────────┼────────────────────────┼───────────────┤\n",
       "│ dense_7 (<span style=\"color: #0087ff; text-decoration-color: #0087ff\">Dense</span>)                 │ (<span style=\"color: #00d7ff; text-decoration-color: #00d7ff\">None</span>, <span style=\"color: #00af00; text-decoration-color: #00af00\">1</span>)              │            <span style=\"color: #00af00; text-decoration-color: #00af00\">65</span> │\n",
       "└─────────────────────────────────┴────────────────────────┴───────────────┘\n",
       "</pre>\n"
      ]
     },
     "metadata": {},
     "output_type": "display_data"
    },
    {
     "data": {
      "text/plain": [
       "\u001B[1m Total params: \u001B[0m\u001B[38;5;34m1,321,473\u001B[0m (5.04 MB)\n"
      ],
      "text/html": [
       "<pre style=\"white-space:pre;overflow-x:auto;line-height:normal;font-family:Menlo,'DejaVu Sans Mono',consolas,'Courier New',monospace\"><span style=\"font-weight: bold\"> Total params: </span><span style=\"color: #00af00; text-decoration-color: #00af00\">1,321,473</span> (5.04 MB)\n",
       "</pre>\n"
      ]
     },
     "metadata": {},
     "output_type": "display_data"
    },
    {
     "data": {
      "text/plain": [
       "\u001B[1m Trainable params: \u001B[0m\u001B[38;5;34m1,321,473\u001B[0m (5.04 MB)\n"
      ],
      "text/html": [
       "<pre style=\"white-space:pre;overflow-x:auto;line-height:normal;font-family:Menlo,'DejaVu Sans Mono',consolas,'Courier New',monospace\"><span style=\"font-weight: bold\"> Trainable params: </span><span style=\"color: #00af00; text-decoration-color: #00af00\">1,321,473</span> (5.04 MB)\n",
       "</pre>\n"
      ]
     },
     "metadata": {},
     "output_type": "display_data"
    },
    {
     "data": {
      "text/plain": [
       "\u001B[1m Non-trainable params: \u001B[0m\u001B[38;5;34m0\u001B[0m (0.00 B)\n"
      ],
      "text/html": [
       "<pre style=\"white-space:pre;overflow-x:auto;line-height:normal;font-family:Menlo,'DejaVu Sans Mono',consolas,'Courier New',monospace\"><span style=\"font-weight: bold\"> Non-trainable params: </span><span style=\"color: #00af00; text-decoration-color: #00af00\">0</span> (0.00 B)\n",
       "</pre>\n"
      ]
     },
     "metadata": {},
     "output_type": "display_data"
    },
    {
     "name": "stdout",
     "output_type": "stream",
     "text": [
      "Epoch 1/10\n",
      "\u001B[1m63/63\u001B[0m \u001B[32m━━━━━━━━━━━━━━━━━━━━\u001B[0m\u001B[37m\u001B[0m \u001B[1m1s\u001B[0m 8ms/step - accuracy: 0.7496 - loss: 0.5885 - val_accuracy: 0.7750 - val_loss: 0.3899\n",
      "Epoch 2/10\n",
      "\u001B[1m63/63\u001B[0m \u001B[32m━━━━━━━━━━━━━━━━━━━━\u001B[0m\u001B[37m\u001B[0m \u001B[1m0s\u001B[0m 7ms/step - accuracy: 0.7940 - loss: 0.3040 - val_accuracy: 0.8800 - val_loss: 0.3352\n",
      "Epoch 3/10\n",
      "\u001B[1m63/63\u001B[0m \u001B[32m━━━━━━━━━━━━━━━━━━━━\u001B[0m\u001B[37m\u001B[0m \u001B[1m0s\u001B[0m 6ms/step - accuracy: 0.9659 - loss: 0.1370 - val_accuracy: 0.8790 - val_loss: 0.4523\n",
      "Epoch 4/10\n",
      "\u001B[1m63/63\u001B[0m \u001B[32m━━━━━━━━━━━━━━━━━━━━\u001B[0m\u001B[37m\u001B[0m \u001B[1m0s\u001B[0m 7ms/step - accuracy: 0.9939 - loss: 0.0322 - val_accuracy: 0.8700 - val_loss: 0.5528\n",
      "Epoch 5/10\n",
      "\u001B[1m63/63\u001B[0m \u001B[32m━━━━━━━━━━━━━━━━━━━━\u001B[0m\u001B[37m\u001B[0m \u001B[1m0s\u001B[0m 6ms/step - accuracy: 0.9967 - loss: 0.0162 - val_accuracy: 0.8710 - val_loss: 0.6540\n",
      "Epoch 5: early stopping\n",
      "Restoring model weights from the end of the best epoch: 2.\n"
     ]
    }
   ],
   "execution_count": 7
  },
  {
   "metadata": {
    "ExecuteTime": {
     "end_time": "2025-03-20T19:55:11.769151Z",
     "start_time": "2025-03-20T19:55:11.218263Z"
    }
   },
   "cell_type": "code",
   "source": [
    "\"\"\" 4.3 Evaluate and compare model performance\n",
    "    You can choose to display the full classification report or just the accuracy.\n",
    "        - evaluate_model(model, X_val, y_val, model_name)\n",
    "    method: evaluate_model(model, X_val, y_val, model_name)\n",
    "    Finally, save the best model and vectorizer for future use.\n",
    "\"\"\"\n",
    "class ModelEvaluator:\n",
    "    def __init__(self):\n",
    "        pass\n",
    "\n",
    "    def evaluate_model(self, model, X_val, y_val, model_name, plot=False):\n",
    "        \"\"\"\n",
    "        This function evaluates the model on the validation set.\n",
    "        It also displays the classification report and accuracy of the model\n",
    "        \"\"\"\n",
    "        y_pred_prob = model.predict(X_val)\n",
    "        y_pred = (y_pred_prob > 0.5).astype(int)\n",
    "\n",
    "        if y_pred.ndim > 1:\n",
    "            y_pred = y_pred.flatten()\n",
    "\n",
    "        accuracy = accuracy_score(y_val, y_pred)\n",
    "\n",
    "        if plot:\n",
    "            print(f\"\\n{model_name} model evaluation:\")\n",
    "            print(f\"Accuracy: {accuracy:.4f}\")\n",
    "            print(\"\\nClassification Report:\")\n",
    "            print(classification_report(y_val, y_pred))\n",
    "\n",
    "        return accuracy, y_pred\n",
    "\n",
    "    def plot_training_history(self, history_unigram, history_bigram, save_path='model_performance.png'):\n",
    "        plt.figure(figsize=(12, 5))\n",
    "\n",
    "        plt.subplot(1, 2, 1)\n",
    "        plt.plot(history_unigram.history['accuracy'], label='Unigram Train')\n",
    "        plt.plot(history_unigram.history['val_accuracy'], label='Unigram Val')\n",
    "        plt.plot(history_bigram.history['accuracy'], label='Bigram Train')\n",
    "        plt.plot(history_bigram.history['val_accuracy'], label='Bigram Val')\n",
    "        plt.title('Model Accuracy')\n",
    "        plt.ylabel('Accuracy')\n",
    "        plt.xlabel('Epoch')\n",
    "        plt.legend()\n",
    "\n",
    "        plt.tight_layout()\n",
    "        plt.savefig(save_path)\n",
    "        plt.show()\n",
    "\n",
    "    def compare_models(self, unigram_accuracy, bigram_accuracy, unigram_model, bigram_model,\n",
    "                      unigram_vectorizer, bigram_vectorizer):\n",
    "        \"\"\"Compare the performance of two models and return the best model\"\"\"\n",
    "        print(\"\\nBelow are the Model performance comparison:\")\n",
    "        print(f\"Unigram model accuracy: {unigram_accuracy:.4f}\")\n",
    "        print(f\"Bigram model accuracy: {bigram_accuracy:.4f}\")\n",
    "\n",
    "        if bigram_accuracy > unigram_accuracy:\n",
    "            best_model = bigram_model\n",
    "            best_vectorizer = bigram_vectorizer\n",
    "            best_model_name = 'bigram'\n",
    "        else:\n",
    "            best_model = unigram_model\n",
    "            best_vectorizer = unigram_vectorizer\n",
    "            best_model_name = 'unigram'\n",
    "\n",
    "        print(f\"\\n{best_model_name} model is the best model here.\")\n",
    "\n",
    "        return best_model, best_vectorizer, best_model_name\n",
    "\n",
    "model_evaluator = ModelEvaluator()\n",
    "# Set plot to True to display full details of the classification report\n",
    "unigram_accuracy, y_pred_unigram = model_evaluator.evaluate_model(unigram_model, X_unigram_val, y_val_unigram, 'Unigram', plot=False)\n",
    "bigram_accuracy, y_pred_bigram = model_evaluator.evaluate_model(bigram_model, X_bigram_val, y_val_bigram, 'Bigram', plot=False)\n",
    "best_model, best_vectorizer, best_model_name = model_evaluator.compare_models(unigram_accuracy, bigram_accuracy, unigram_model, bigram_model,unigram_vectorizer, bigram_vectorizer)\n",
    "model_evaluator.plot_training_history(history_unigram, history_bigram)\n",
    "\n"
   ],
   "id": "12373fabef535a5d",
   "outputs": [
    {
     "name": "stdout",
     "output_type": "stream",
     "text": [
      "\u001B[1m32/32\u001B[0m \u001B[32m━━━━━━━━━━━━━━━━━━━━\u001B[0m\u001B[37m\u001B[0m \u001B[1m0s\u001B[0m 2ms/step \n",
      "\u001B[1m32/32\u001B[0m \u001B[32m━━━━━━━━━━━━━━━━━━━━\u001B[0m\u001B[37m\u001B[0m \u001B[1m0s\u001B[0m 2ms/step \n",
      "\n",
      "Below are the Model performance comparison:\n",
      "Unigram model accuracy: 0.8630\n",
      "Bigram model accuracy: 0.8800\n",
      "\n",
      "bigram model is the best model here.\n"
     ]
    },
    {
     "data": {
      "text/plain": [
       "<Figure size 1200x500 with 1 Axes>"
      ],
      "image/png": "[encoded data removed]"
     },
     "metadata": {},
     "output_type": "display_data"
    }
   ],
   "execution_count": 8
  },
  {
   "metadata": {
    "ExecuteTime": {
     "end_time": "2025-03-20T19:55:28.344087Z",
     "start_time": "2025-03-20T19:55:28.230357Z"
    }
   },
   "cell_type": "code",
   "source": [
    "\"\"\"\n",
    "Step 5: Generating Predictions for Test Data\n",
    "    5.1 Transform test data\n",
    "    5.2 Generate some predictions and display the prediction summary\n",
    "    5.3 Save the prediction results to a new file called `Team6predictions.txt`\n",
    "\"\"\"\n",
    "\n",
    "# Transform test data\n",
    "X_test = best_vectorizer.transform(test_data_processed['combined_text'])\n",
    "\n",
    "# Generate predictions\n",
    "y_pred_proba = best_model.predict(X_test)\n",
    "y_pred = (y_pred_proba > 0.5).astype(int)\n",
    "\n",
    "# Display prediction summary\n",
    "print(\"\\nTest data prediction summary:\")\n",
    "print(f\"Total predictions: {len(y_pred)}\")\n",
    "print(f\"Positive sentiment (1): {np.sum(y_pred)} samples ({np.sum(y_pred) / len(y_pred) * 100:.2f}%)\")\n",
    "print(\n",
    "    f\"Negative sentiment (0): {len(y_pred) - np.sum(y_pred)} samples ({(len(y_pred) - np.sum(y_pred)) / len(y_pred) * 100:.2f}%)\")\n",
    "\n",
    "# Save predictions to file\n",
    "np.savetxt('Team6predictions.txt', y_pred, fmt='%d')\n",
    "print(\"\\nPredictions saved to 'Team6predictions.txt'\")"
   ],
   "id": "7fb7b64da709ec59",
   "outputs": [
    {
     "name": "stdout",
     "output_type": "stream",
     "text": [
      "\u001B[1m16/16\u001B[0m \u001B[32m━━━━━━━━━━━━━━━━━━━━\u001B[0m\u001B[37m\u001B[0m \u001B[1m0s\u001B[0m 2ms/step \n",
      "\n",
      "Test data prediction summary:\n",
      "Total predictions: 500\n",
      "Positive sentiment (1): 394 samples (78.80%)\n",
      "Negative sentiment (0): 106 samples (21.20%)\n",
      "\n",
      "Predictions saved to 'Team6predictions.txt'\n"
     ]
    }
   ],
   "execution_count": 9
  },
  {
   "metadata": {
    "ExecuteTime": {
     "end_time": "2025-03-20T19:55:31.228829Z",
     "start_time": "2025-03-20T19:55:31.113736Z"
    }
   },
   "cell_type": "code",
   "source": [
    "\"\"\"\n",
    "Step 6: Business Insights Analysis\n",
    "    6.1 Define a reusable function that can get the most frequently used words in positive / negative reviews\n",
    "    Identify frequent words in negative reviews\n",
    "    6.2 Find recurring phrases that indicate product issues\n",
    "    6.3 Provide strategic recommendations\n",
    "\"\"\"\n",
    "class ReviewAnalyzer:\n",
    "    def __init__(self, data_df, sentiment_col='sentiment_binary', text_col='combined_text'):\n",
    "        \"\"\"\n",
    "        data_df = train_data_processed / test_data_processed\n",
    "        \"\"\"\n",
    "        self.data = data_df\n",
    "        self.sentiment_col = sentiment_col\n",
    "        self.text_col = text_col\n",
    "\n",
    "\n",
    "    def get_reviews_summary(self):\n",
    "        sentiment_counts = self.data['sentiment_binary'].value_counts()\n",
    "        print(f\"Positive reviews: {sentiment_counts[1]} ({sentiment_counts[1] / len(self.data) * 100:.2f}%)\")\n",
    "        print(f\"Negative reviews: {sentiment_counts[0]} ({sentiment_counts[0] / len(self.data) * 100:.2f}%)\")\n",
    "\n",
    "\n",
    "    def get_pos_neg_reviews(self, positive):\n",
    "        \"\"\"This function returns positive / negative reviews based on the input positive\"\"\"\n",
    "        if positive == 1:\n",
    "            return 'positive', self.data[self.data[self.sentiment_col] == 1][self.text_col]\n",
    "        elif positive == 0:\n",
    "            return 'negative', self.data[self.data[self.sentiment_col] == 0][self.text_col]\n",
    "\n",
    "\n",
    "    def get_unigram_frequent_words(self, reviews, review_type):\n",
    "        \"\"\"This function returns the most frequent words in the unigram model\"\"\"\n",
    "        text = ' '.join(reviews)\n",
    "        words = text.split()\n",
    "        word_freq = Counter(words)\n",
    "\n",
    "        print(f\"\\n1. (Unigram) Most frequent words in {review_type} reviews:\")\n",
    "        for word, count in word_freq.most_common(20):\n",
    "            if len(word) > 2:\n",
    "                print(f\"   {word}: {count}\")\n",
    "\n",
    "\n",
    "    def get_bigram_frequent_words(self, reviews, review_type):\n",
    "        \"\"\"This function returns the most frequent words in the bigram model\"\"\"\n",
    "        bigrams = list(ngrams(' '.join(reviews).split(), 2))\n",
    "        bigram_freq = Counter(bigrams)\n",
    "\n",
    "        print(f\"\\n2. (Bigram) Most common phrases in {review_type} reviews:\")\n",
    "        for bigram, count in bigram_freq.most_common(20):\n",
    "            print(f\"   '{bigram[0]} {bigram[1]}': {count}\")\n",
    "\n",
    "\n",
    "# # Extract important features for negative sentiment\n",
    "# def get_important_features(vectorizer, model, class_index=0, top_n=20):\n",
    "#     \"\"\"\n",
    "#     Extract features most strongly associated with a particular class\n",
    "#     \"\"\"\n",
    "#     feature_names = vectorizer.get_feature_names_out()\n",
    "#     weights = model.layers[0].get_weights()[0]\n",
    "#\n",
    "#     # For binary classification, use weights for the output neuron\n",
    "#     if weights.shape[1] == 1:\n",
    "#         feature_weights = weights.flatten()\n",
    "#     else:\n",
    "#         # For multi-class, use weights for the specified class\n",
    "#         feature_weights = weights[:, class_index]\n",
    "\n",
    "review_analyzer = ReviewAnalyzer(train_data_processed)\n",
    "# # Uncomment to see the review summary, including the total number of positive / negative reviews\n",
    "# review_analyzer.get_reviews_summary()\n",
    "positive_reviews = review_analyzer.get_pos_neg_reviews(positive=1)\n",
    "negative_reviews = review_analyzer.get_pos_neg_reviews(positive=0)\n",
    "\n",
    "pos_uni = review_analyzer.get_unigram_frequent_words(positive_reviews[1], positive_reviews[0])\n",
    "pos_bi = review_analyzer.get_bigram_frequent_words(positive_reviews[1], positive_reviews[0])\n",
    "\n",
    "neg_uni = review_analyzer.get_unigram_frequent_words(negative_reviews[1], negative_reviews[0])\n",
    "neg_bi = review_analyzer.get_bigram_frequent_words(negative_reviews[1], negative_reviews[0])\n"
   ],
   "id": "6acd65f5072fff8f",
   "outputs": [
    {
     "name": "stdout",
     "output_type": "stream",
     "text": [
      "\n",
      "1. (Unigram) Most frequent words in positive reviews:\n",
      "   not: 3487\n",
      "   great: 1969\n",
      "   good: 1818\n",
      "   like: 1590\n",
      "   love: 1399\n",
      "   taste: 1340\n",
      "   flavor: 1313\n",
      "   product: 1199\n",
      "   one: 1141\n",
      "   chip: 1127\n",
      "   coffee: 1046\n",
      "   food: 1029\n",
      "   best: 956\n",
      "   tea: 876\n",
      "   would: 844\n",
      "   make: 819\n",
      "   dog: 755\n",
      "   bag: 716\n",
      "   really: 697\n",
      "\n",
      "2. (Bigram) Most common phrases in positive reviews:\n",
      "   'dog food': 250\n",
      "   'gluten free': 206\n",
      "   'hot chocolate': 160\n",
      "   'highly recommend': 159\n",
      "   'potato chip': 158\n",
      "   'great product': 149\n",
      "   'not like': 131\n",
      "   'taste great': 129\n",
      "   'hot cocoa': 126\n",
      "   'grocery store': 124\n",
      "   'green tea': 121\n",
      "   'taste like': 113\n",
      "   'could not': 110\n",
      "   'really good': 110\n",
      "   'year old': 97\n",
      "   'taste good': 94\n",
      "   'much better': 92\n",
      "   'dog love': 88\n",
      "   'salt vinegar': 88\n",
      "   'really like': 85\n",
      "\n",
      "1. (Unigram) Most frequent words in negative reviews:\n",
      "   not: 2183\n",
      "   like: 635\n",
      "   taste: 598\n",
      "   product: 520\n",
      "   would: 462\n",
      "   flavor: 428\n",
      "   good: 422\n",
      "   one: 405\n",
      "   food: 307\n",
      "   chip: 302\n",
      "   coffee: 263\n",
      "   tea: 253\n",
      "   bag: 249\n",
      "   get: 241\n",
      "   better: 238\n",
      "   much: 236\n",
      "   even: 218\n",
      "   make: 216\n",
      "\n",
      "2. (Bigram) Most common phrases in negative reviews:\n",
      "   'taste like': 83\n",
      "   'not good': 81\n",
      "   'would not': 79\n",
      "   'not buy': 63\n",
      "   'could not': 60\n",
      "   'not like': 54\n",
      "   'not bad': 49\n",
      "   'not taste': 45\n",
      "   'taste not': 40\n",
      "   'dog food': 40\n",
      "   'hot cocoa': 40\n",
      "   'hot chocolate': 40\n",
      "   'not even': 39\n",
      "   'not know': 38\n",
      "   'flavor not': 37\n",
      "   'not sure': 36\n",
      "   'not get': 36\n",
      "   'much better': 36\n",
      "   'potato chip': 35\n",
      "   'grocery store': 35\n"
     ]
    }
   ],
   "execution_count": 10
  },
  {
   "metadata": {
    "ExecuteTime": {
     "end_time": "2025-03-21T02:01:55.241857Z",
     "start_time": "2025-03-21T02:01:55.233592Z"
    }
   },
   "cell_type": "code",
   "source": [
    "\"\"\" 6.3 Business Insights Analysis\n",
    "\n",
    "Challenges and benefits of using Unigram and Bigram\n",
    "\n",
    "By using Bigram, adjacent two words (pairs of words) provide more information about given reviews. For example, “not good” is a common negative expression, but observing “not” and “like” separately (using Unigram) is hard for us to distinguish whether customers like or do not like products. However, Bigram often leads to a sparse feature matrix and creates repetitions of words. Also, more features mean an increased risk of overfitting, which will even decrease the model accuracy.\n",
    "\n",
    "By using Unigram, the procedure is straightforward and simpler compared to Bigram. Memory usage by the Unigram method is less than Bigram. Some phrases may be split into two unrelated words, such as “green tea,” because of the loss of context mentioned before.\n",
    "\n",
    "We also meet some challenges when using Unigram and Bigram:\n",
    "- Sarcasm and ironic words are often used in reviews, especially negative reviews. It is difficult to capture that in a large dataset unless we know the relationship or specific content of a sentence.\n",
    "- Bigram has a higher risk of overfitting, which may lead to a decline in our model’s accuracy. This is an important part we need to pay attention to.\n",
    "\n",
    "Business Insights\n",
    "1. What are the most frequent words associated with negative reviews? What are the main\n",
    "areas of underlying problems that are reflected in these words?\n",
    "- Unigram method top five frequent words in negative reviews: not, like, taste, product, would\n",
    "- Bigram method top five frequent words in negative reviews: taste like, not good, would not, not buy, could not\n",
    "- “Not” or “would not” or “could not”: a common way to express negatively. We keep that to make our results more accurate. If we remove “not” by generally removing the stopwords, it is hard to distinguish “not like” and “like” after cleaning the text, which is important for Bigram. Therefore, we can observe “not good” and “not buy” in the top five frequent words by applying the Bigram method and these suggest fundamental issues of products.\n",
    "- “Like”: a very common word to express the satisfaction of a product. It frequently appears in negative reviews because some expressions, such as “not like,” would be tokenized to “like” by unigram. Thus, this may also suggest fundamental issues of products\n",
    "- “Taste” or “Taste like”: for reviews of food, people usually describe the flavour of that food, so they appear frequently in reviews. These are related to sensory issues with food products.\n",
    "- “Product”: all the reviews are related to products, so it appears very often but is not very useful for giving any sentimental information.\n",
    "\n",
    "2. Are there recurring phrases that indicate product defects or poor customer service?\n",
    "- “not good”, “not buy”, “not like”, “not sure”: quality issues\n",
    "- “taste like”, “not taste”, “taste not”, “flavor not”: taste or flavour issues, maybe quality issues\n",
    "- “not get”: related to expectations of products or service issues\n",
    "\n",
    "3. Based on the recurring negative-review patterns, what specific improvements or\n",
    "strategic changes would you recommend to address these concerns?\n",
    "- Need to improve quality control processes, which is a very frequently mentioned defect. Improving the quality of products would attract more customers to buy and reduce some negative reviews.\n",
    "- May try another recipe or try other ingredients to improve the taste. Also, it is important to enhance the taste-testing process and collect ideas from those customers to improve products.\n",
    "- Make a survey or feedback form for customers to collect information about their expectations for products and try to approach the expectations to keep regular customers and attract more potential customers.\n",
    "- Improve customer service response times and accessibility and communication with logistics.\n",
    "\"\"\""
   ],
   "id": "d411c376d878794a",
   "outputs": [
    {
     "data": {
      "text/plain": [
       "' 6.3 Business Insights Analysis\\n\\nChallenges and benefits of using Unigram and Bigram\\n\\nBy using Bigram, adjacent two words (pairs of words) provide more information about given reviews. For example, “not good” is a common negative expression, but observing “not” and “like” separately (using Unigram) is hard for us to distinguish whether customers like or do not like products. However, Bigram often leads to a sparse feature matrix and creates repetitions of words. Also, more features mean an increased risk of overfitting, which will even decrease the model accuracy.\\n\\nBy using Unigram, the procedure is straightforward and simpler compared to Bigram. Memory usage by the Unigram method is less than Bigram. Some phrases may be split into two unrelated words, such as “green tea,” because of the loss of context mentioned before.\\n\\nWe also meet some challenges when using Unigram and Bigram:\\n- Sarcasm and ironic words are often used in reviews, especially negative reviews. It is difficult to capture that in a large dataset unless we know the relationship or specific content of a sentence.\\n- Bigram has a higher risk of overfitting, which may lead to a decline in our model’s accuracy. This is an important part we need to pay attention to.\\n\\nBusiness Insights\\n1. What are the most frequent words associated with negative reviews? What are the main\\nareas of underlying problems that are reflected in these words?\\n- Unigram method top five frequent words in negative reviews: not, like, taste, product, would\\n- Bigram method top five frequent words in negative reviews: taste like, not good, would not, not buy, could not\\n- “Not” or “would not” or “could not”: a common way to express negatively. We keep that to make our results more accurate. If we remove “not” by generally removing the stopwords, it is hard to distinguish “not like” and “like” after cleaning the text, which is important for Bigram. Therefore, we can observe “not good” and “not buy” in the top five frequent words by applying the Bigram method and these suggest fundamental issues of products.\\n- “Like”: a very common word to express the satisfaction of a product. It frequently appears in negative reviews because some expressions, such as “not like,” would be tokenized to “like” by unigram. Thus, this may also suggest fundamental issues of products\\n- “Taste” or “Taste like”: for reviews of food, people usually describe the flavour of that food, so they appear frequently in reviews. These are related to sensory issues with food products.\\n- “Product”: all the reviews are related to products, so it appears very often but is not very useful for giving any sentimental information.\\n\\n2. Are there recurring phrases that indicate product defects or poor customer service?\\n- “not good”, “not buy”, “not like”, “not sure”: quality issues\\n- “taste like”, “not taste”, “taste not”, “flavor not”: taste or flavour issues, maybe quality issues\\n- “not get”: related to expectations of products or service issues\\n\\n3. Based on the recurring negative-review patterns, what specific improvements or\\nstrategic changes would you recommend to address these concerns?\\n- Need to improve quality control processes, which is a very frequently mentioned defect. Improving the quality of products would attract more customers to buy and reduce some negative reviews.\\n- May try another recipe or try other ingredients to improve the taste. Also, it is important to enhance the taste-testing process and collect ideas from those customers to improve products.\\n- Make a survey or feedback form for customers to collect information about their expectations for products and try to approach the expectations to keep regular customers and attract more potential customers.\\n- Improve customer service response times and accessibility and communication with logistics.\\n'"
      ]
     },
     "execution_count": 11,
     "metadata": {},
     "output_type": "execute_result"
    }
   ],
   "execution_count": 11
  },
  {
   "metadata": {},
   "cell_type": "code",
   "outputs": [],
   "execution_count": null,
   "source": "",
   "id": "6bd64d2f24b7b494"
  }
 ],
 "metadata": {
  "kernelspec": {
   "display_name": "Python 3",
   "language": "python",
   "name": "python3"
  },
  "language_info": {
   "codemirror_mode": {
    "name": "ipython",
    "version": 2
   },
   "file_extension": ".py",
   "mimetype": "text/x-python",
   "name": "python",
   "nbconvert_exporter": "python",
   "pygments_lexer": "ipython2",
   "version": "2.7.6"
  }
 },
 "nbformat": 4,
 "nbformat_minor": 5
}
